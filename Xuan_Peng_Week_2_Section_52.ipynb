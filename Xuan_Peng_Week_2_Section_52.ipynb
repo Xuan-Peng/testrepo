{
 "cells": [
  {
   "cell_type": "markdown",
   "metadata": {
    "id": "cuYPG-FC8ryF",
    "tags": []
   },
   "source": [
    "# Week 2 Homework\n",
    "\n",
    "This homework will provide an opportunity for you to practice the most important topics we discussed in week 1 and 2. It will also prepare you for week 3 of this course. "
   ]
  },
  {
   "cell_type": "markdown",
   "metadata": {
    "id": "cKDuOTQB8ryN"
   },
   "source": [
    "## Submission guidelines:\n",
    "**Once you are done, remove all the output (Right click on screen --> Clear All Outputs), save your file as: `YourFirstName_YourLastName_Week_2_SectionNumber.ipynb`.**\n",
    "\n",
    "**Wednesday morning: section_51 & Wednesday afternoon: section 52.**\n",
    "\n",
    "**If you submit under any other name/format, your submission will not be graded!**\n",
    "\n",
    "**Due at 11:59 pm on Tuesday Feb 8, 2022**\n",
    "\n",
    "**We have on-line office hours on Monday night over zoom; please feel free to join and ask your questions. You are better off trying all the questions before the office hours**"
   ]
  },
  {
   "cell_type": "markdown",
   "metadata": {
    "id": "kD_fWtSVkYsx"
   },
   "source": [
    "## Run the following cell first"
   ]
  },
  {
   "cell_type": "code",
   "execution_count": 1,
   "metadata": {
    "id": "5M-iHAQqkYsy"
   },
   "outputs": [],
   "source": [
    "%load_ext lab_black"
   ]
  },
  {
   "cell_type": "markdown",
   "metadata": {
    "id": "xM234DQ5kYsz"
   },
   "source": [
    "## Problem: Installing `Node.js`\n",
    "In class you noticed that you need `Node.js` for running jupyterlab extensions. Please go to https://nodejs.org/en/download/, select one of the following links depending on your OS.\n",
    "\n",
    "<p style=\"text-align: left;\"> <img src=https://www.dropbox.com/s/1z9uqbm2j5i7l29/image.jpg?raw=1 width=600/>\n",
    "    \n",
    "    After installation, please restart your computer"
   ]
  },
  {
   "cell_type": "markdown",
   "metadata": {
    "id": "VIZbHtfvkYs0"
   },
   "source": [
    "## Problem: \n",
    "\n",
    "As I mentioned in one of the classes, I am planning on inviting one (hopefully two) data analysts/data scientists to our class as a guest speaker. **What would you like the guest speaker to talk about?** This is your time and I would like to communicate your opinion with the guest speaker(s). These guest speakers are both expert python developers. Your questions could be about career development, business, job search, interview, python, or anything else. Please think about it and take it seriously.\n",
    "\n",
    "**Email your answers before Tuesday Feb 8, 11:59 pm directly to me (nnikandish@jhu.edu) and cc your TA, Viktor, (vaghaja1@jhu.edu)** This is a graded question. \n",
    "\n",
    "Subject line of your email must be **GUEST SPEAKER QUESTIONS**."
   ]
  },
  {
   "cell_type": "markdown",
   "metadata": {
    "id": "mawybkXkSog3"
   },
   "source": [
    "## Problem:\n",
    "\n",
    "Define `list_2 = [10, 20, 30, 40, 50, 60]`. Write a snippet that prints the following sequentially:\n",
    " - item at index number 1\n",
    " - item in the last index ( you can use positive or negative index)\n",
    " - length of `list_2`\n"
   ]
  },
  {
   "cell_type": "code",
   "execution_count": 2,
   "metadata": {
    "id": "CUGZMlI0Sog3"
   },
   "outputs": [
    {
     "name": "stdout",
     "output_type": "stream",
     "text": [
      "20\n",
      "60\n",
      "6\n"
     ]
    }
   ],
   "source": [
    "## Solution:\n",
    "list_2 = [10, 20, 30, 40, 50, 60]\n",
    "print(list_2[1])\n",
    "print(list_2[-1])\n",
    "print(len(list_2))"
   ]
  },
  {
   "cell_type": "markdown",
   "metadata": {
    "id": "paW0x4VrkYs0"
   },
   "source": [
    "## Problem:\n",
    "Write a small snippet showing (proving) that string class is `immutable`. \n",
    "\n",
    "**Hint:** we did this in class during the week 2's lecture."
   ]
  },
  {
   "cell_type": "code",
   "execution_count": 3,
   "metadata": {
    "id": "Ry4iUbM_kYs0"
   },
   "outputs": [
    {
     "ename": "TypeError",
     "evalue": "'str' object does not support item assignment",
     "output_type": "error",
     "traceback": [
      "\u001b[0;31m---------------------------------------------------------------------------\u001b[0m",
      "\u001b[0;31mTypeError\u001b[0m                                 Traceback (most recent call last)",
      "\u001b[0;32m/var/folders/3d/rwj1c9sd4bvbgvpt0y8p10ym0000gn/T/ipykernel_27883/3791495957.py\u001b[0m in \u001b[0;36m<module>\u001b[0;34m\u001b[0m\n\u001b[1;32m      1\u001b[0m \u001b[0;31m## Solution\u001b[0m\u001b[0;34m\u001b[0m\u001b[0;34m\u001b[0m\u001b[0m\n\u001b[1;32m      2\u001b[0m \u001b[0mstr_1\u001b[0m \u001b[0;34m=\u001b[0m \u001b[0;34m'test'\u001b[0m\u001b[0;34m\u001b[0m\u001b[0;34m\u001b[0m\u001b[0m\n\u001b[0;32m----> 3\u001b[0;31m \u001b[0mstr_1\u001b[0m\u001b[0;34m[\u001b[0m\u001b[0;36m1\u001b[0m\u001b[0;34m]\u001b[0m \u001b[0;34m=\u001b[0m\u001b[0;34m'E'\u001b[0m\u001b[0;34m\u001b[0m\u001b[0;34m\u001b[0m\u001b[0m\n\u001b[0m",
      "\u001b[0;31mTypeError\u001b[0m: 'str' object does not support item assignment"
     ]
    }
   ],
   "source": [
    "## Solution\n",
    "str_1 = 'test'\n",
    "str_1[1] ='E'"
   ]
  },
  {
   "cell_type": "markdown",
   "metadata": {
    "id": "pqECRP-LSog4"
   },
   "source": [
    "## Problem:\n",
    "\n",
    "Define `list_2 = [10, 20, 30, 40, 50, 60]`. try `list_2[len(list_2)]`. Why do you think you are getting an error?\n"
   ]
  },
  {
   "cell_type": "code",
   "execution_count": 4,
   "metadata": {
    "id": "EHs7rtkoSog4"
   },
   "outputs": [
    {
     "ename": "IndexError",
     "evalue": "list index out of range",
     "output_type": "error",
     "traceback": [
      "\u001b[0;31m---------------------------------------------------------------------------\u001b[0m",
      "\u001b[0;31mIndexError\u001b[0m                                Traceback (most recent call last)",
      "\u001b[0;32m/var/folders/3d/rwj1c9sd4bvbgvpt0y8p10ym0000gn/T/ipykernel_27883/1159111964.py\u001b[0m in \u001b[0;36m<module>\u001b[0;34m\u001b[0m\n\u001b[1;32m      1\u001b[0m \u001b[0;31m## Solution:\u001b[0m\u001b[0;34m\u001b[0m\u001b[0;34m\u001b[0m\u001b[0m\n\u001b[1;32m      2\u001b[0m \u001b[0mlist_2\u001b[0m \u001b[0;34m=\u001b[0m \u001b[0;34m[\u001b[0m\u001b[0;36m10\u001b[0m\u001b[0;34m,\u001b[0m\u001b[0;36m20\u001b[0m\u001b[0;34m,\u001b[0m\u001b[0;36m30\u001b[0m\u001b[0;34m,\u001b[0m\u001b[0;36m40\u001b[0m\u001b[0;34m,\u001b[0m\u001b[0;36m50\u001b[0m\u001b[0;34m,\u001b[0m\u001b[0;36m60\u001b[0m\u001b[0;34m]\u001b[0m\u001b[0;34m\u001b[0m\u001b[0;34m\u001b[0m\u001b[0m\n\u001b[0;32m----> 3\u001b[0;31m \u001b[0mlist_2\u001b[0m\u001b[0;34m[\u001b[0m\u001b[0mlen\u001b[0m\u001b[0;34m(\u001b[0m\u001b[0mlist_2\u001b[0m\u001b[0;34m)\u001b[0m\u001b[0;34m]\u001b[0m\u001b[0;34m\u001b[0m\u001b[0;34m\u001b[0m\u001b[0m\n\u001b[0m",
      "\u001b[0;31mIndexError\u001b[0m: list index out of range"
     ]
    }
   ],
   "source": [
    "## Solution:\n",
    "list_2 = [10,20,30,40,50,60]\n",
    "list_2[len(list_2)]"
   ]
  },
  {
   "cell_type": "markdown",
   "metadata": {},
   "source": [
    "**ANSWER**: It's because the list index is out of range. The length of list_2 is 6, so len(list_2) will return 6. Hence, our input would be list_2[6] which returns error. The index starts from 0, and the last index is 5. So 6 would be out of range. "
   ]
  },
  {
   "cell_type": "markdown",
   "metadata": {
    "id": "sfWd9uY6Sog4"
   },
   "source": [
    "## Problem:\n",
    "\n",
    "\n",
    "Write a snippet that **using list comprehension** creates a list called `list_2` that its elements are the square of the elements from `list_1 = [3, 7, 12, 15, 4]`. `list_2` must include ONLY values that are not bigger than 80. Then create another list called  `list_3` that is sorted (reverse) version of `list_2`. Using `print` function ONLY ONCE (using f-strings) print `list_2` and `list_3`. The output of your snippet must look like\n",
    "\n",
    "list_2 is [9, 49, 16] and list_3 is [49, 16, 9]\n",
    "\n"
   ]
  },
  {
   "cell_type": "code",
   "execution_count": 5,
   "metadata": {
    "id": "EZNCSjVKSog5"
   },
   "outputs": [
    {
     "name": "stdout",
     "output_type": "stream",
     "text": [
      "list_2 is [9, 49, 16] and list_3 is [49, 16, 9]\n"
     ]
    }
   ],
   "source": [
    "## Solution:\n",
    "list_1 = [3, 7, 12, 15, 4]\n",
    "list_2 = [n ** 2 for n in list_1 if n ** 2 <= 80]\n",
    "list_3 = sorted(list_2, reverse=True)\n",
    "print(f\"list_2 is {list_2} and list_3 is {list_3}\")"
   ]
  },
  {
   "cell_type": "markdown",
   "metadata": {
    "id": "V_x0vZwtSog6"
   },
   "source": [
    "## Problem:\n",
    "\n",
    "Define `a = 2, 5`. What kind of data type does `a` have?\n"
   ]
  },
  {
   "cell_type": "code",
   "execution_count": 6,
   "metadata": {
    "id": "EcPA-1xlSog6"
   },
   "outputs": [
    {
     "data": {
      "text/plain": [
       "tuple"
      ]
     },
     "execution_count": 6,
     "metadata": {},
     "output_type": "execute_result"
    }
   ],
   "source": [
    "## Solution:\n",
    "a = 2, 5\n",
    "type(a)"
   ]
  },
  {
   "cell_type": "markdown",
   "metadata": {},
   "source": [
    "### ANSWER: a is a tuple."
   ]
  },
  {
   "cell_type": "markdown",
   "metadata": {
    "id": "g7slGHbXSog7"
   },
   "source": [
    "## Problem:\n",
    "\n",
    "`+=` can be used to concatenate two lists. Define a list  of even numbers less than 10 (call it `list_even`) . Define a list of odd numbers less than 10 (call it `list_odd`). Concatenate `list_even` and `list_odd` using `+=`."
   ]
  },
  {
   "cell_type": "code",
   "execution_count": 7,
   "metadata": {
    "id": "9tI9CymFSog7"
   },
   "outputs": [
    {
     "data": {
      "text/plain": [
       "[0, 2, 4, 6, 8, 1, 3, 5, 7, 9]"
      ]
     },
     "execution_count": 7,
     "metadata": {},
     "output_type": "execute_result"
    }
   ],
   "source": [
    "## Solution:\n",
    "list_even = [item for item in range(0, 10, 2)]\n",
    "list_odd = [item for item in range(1, 10, 2)]\n",
    "list_even += list_odd\n",
    "list_even"
   ]
  },
  {
   "cell_type": "markdown",
   "metadata": {
    "id": "eH0CTrSWSog7"
   },
   "source": [
    "## Problem:\n",
    "\n",
    "Create a list called `numbers` containing the values from 1 to 20, then use slices to perform the following operations sequentially:\n",
    "\n",
    " - select even numbers\n",
    " - Replace the elements at indices 5 through 9 with 0s. Print the final resulting list.\n",
    " \n",
    "Remember that each step needs to be done using slices."
   ]
  },
  {
   "cell_type": "code",
   "execution_count": 8,
   "metadata": {
    "id": "YJ569esQSog8"
   },
   "outputs": [
    {
     "name": "stdout",
     "output_type": "stream",
     "text": [
      "Even numbers: [2, 4, 6, 8, 10, 12, 14, 16, 18, 20]\n"
     ]
    },
    {
     "data": {
      "text/plain": [
       "[2, 4, 6, 8, 10, 0, 0, 0, 0, 0]"
      ]
     },
     "execution_count": 8,
     "metadata": {},
     "output_type": "execute_result"
    }
   ],
   "source": [
    "## Solution\n",
    "numbers = list(range(1, 21))\n",
    "even_numbers = numbers[1::2]\n",
    "print(f\"Even numbers: {even_numbers}\")\n",
    "even_numbers[5:10] = [0] * len(even_numbers[5:10])\n",
    "even_numbers"
   ]
  },
  {
   "cell_type": "markdown",
   "metadata": {},
   "source": [
    "# Question\n",
    "For this question, you are NOT required to write any code. You do not need to understand the snippet either. So relax and read the instructions:\n",
    "\n",
    "- First unload code-formatter by running `%unload_ext lab_black` in the next cell. \n",
    "- Now, please run the following snippet several times (4-5 times at least). Depending on your computer configurations, it may take up to 10 seconds each to run and display the answer. It will show an image!\n",
    "- The rest of this question is after the snippet..."
   ]
  },
  {
   "cell_type": "code",
   "execution_count": 9,
   "metadata": {
    "tags": []
   },
   "outputs": [],
   "source": [
    "%unload_ext lab_black"
   ]
  },
  {
   "cell_type": "code",
   "execution_count": 10,
   "metadata": {},
   "outputs": [
    {
     "data": {
      "image/png": "[encoded data removed]",
      "text/plain": [
       "<Figure size 432x288 with 1 Axes>"
      ]
     },
     "metadata": {},
     "output_type": "display_data"
    }
   ],
   "source": [
    "import numpy as np\n",
    "import matplotlib.pyplot as plt\n",
    "import random\n",
    "\n",
    "fig, ax = plt.subplots(nrows=1, ncols=1)\n",
    "\n",
    "# list of colors\n",
    "color_palette = [\"black\", \"pink\", \"magenta\", \"red\", \"violet\", \"aqua\", \"skyblue\", \"springgreen\",  \"gold\", \"teal\", \"firebrick\"]\n",
    "\n",
    "# choose image color\n",
    "dark_color = True\n",
    "while dark_color == True:\n",
    "    image_color = random.choice(color_palette)\n",
    "    if image_color != \"black\":\n",
    "        dark_color = False\n",
    "\n",
    "# choose background color\n",
    "same_colors = True\n",
    "while same_colors == True:\n",
    "    background_color = random.choice(color_palette)\n",
    "    if background_color != image_color:\n",
    "        same_colors = False\n",
    "\n",
    "fig.patch.set_facecolor(background_color)\n",
    "x_coords = np.linspace(-200, 200, 600)\n",
    "y_coords = np.linspace(-200, 200, 600)\n",
    "secret_x = []\n",
    "secret_y = []\n",
    "for y in y_coords:\n",
    "    for x in x_coords:\n",
    "        if ((x * 0.01) ** 2 + (y * 0.01) ** 2 - 1) ** 3 - (x * 0.01) ** 2 * (y * 0.01) ** 3 <= 0:\n",
    "            secret_x.append(x)\n",
    "            secret_y.append(y)\n",
    "plt.text(0.5, 0.5, \"Python language loves you;\\ndo you love Python language back?\\n\\nHappy Valentine's day (in-advance)\\\n",
    "\\nto all of my amazing students!\\n Feb, 04, 2022\", horizontalalignment=\"center\", fontsize=12)\n",
    "\n",
    "plt.scatter(secret_x, secret_y, c=image_color)\n",
    "plt.axis(\"off\")\n",
    "plt.show()\n",
    "\n",
    "# Remember to run it several times"
   ]
  },
  {
   "cell_type": "markdown",
   "metadata": {},
   "source": [
    "### Rest of the question... \n",
    "Stop running the code 200 times! Hopefully that was a nice break and you enjoyed the image; now let's get to work and talk about the snippet!\n",
    "\n",
    "There are two `while` loops in the above snippet. What do these two `while` loops do? Please explain your answer is a short paragraph. \n",
    "You do NOT need to understand `numpy`, `mathplotlib`, or `pyplot`. You only need to understand `while` loop and `random.choice`, and `if`. I have covered these all in the class/ handouts."
   ]
  },
  {
   "cell_type": "markdown",
   "metadata": {},
   "source": [
    "# Turn this cell into a Markdown cell and type your answer here:\n",
    "**ANSWER**: The first `while loop` help us choose image color. We have a statement before the `while loop`. dark_color = True. Hence, if dark_color is true, the `while loop` will go through the following code. Firstly, the loop will randomly choose one of the colors from color_palette as the image color. After image color was chosen, we have a conditional statement `if` after that to see if the chosen image color is black or not. If the image color is not black, then dark_color will equal False to exit the `while loop` so that we are not going to choose image color again. If the image color we chose turns out black, nothing will happen on dark_color. dark_color is still equal to True. Then we will go through `while loop` again, untill we get an image color that is not black.\n",
    "\n",
    "The second `while loop` help us choose background color. Before the `while loop`, we have a statement same_color = True. Hence, if same_colors equal True, the `while loop` will start working. Firstly, the loop will randomly choose a background color from color_palette. After the background color was chosen, we have a `if` statement to check whether our background color is the same as our image color. If they are different, the statement same_colors = True will change to False to exit the `while loop`. However, if they are the same, same_color will still equal True to keep the `while loop` running until we get a different background color so that same_colors changed to False to stop.\n",
    "\n"
   ]
  },
  {
   "cell_type": "markdown",
   "metadata": {},
   "source": [
    "## Before moving forward, please Run the following cell first"
   ]
  },
  {
   "cell_type": "code",
   "execution_count": 11,
   "metadata": {
    "tags": []
   },
   "outputs": [],
   "source": [
    "%load_ext lab_black"
   ]
  },
  {
   "cell_type": "markdown",
   "metadata": {
    "id": "ftvAW9DnSog8"
   },
   "source": [
    "## Problem:\n",
    "\n",
    "What is wrong with this snippet?\n",
    "\n",
    ">```python\n",
    ">a = []\n",
    ">for i in range(4):\n",
    ">     a[i] = i * i\n",
    ">```"
   ]
  },
  {
   "cell_type": "code",
   "execution_count": 12,
   "metadata": {
    "id": "nT7MWiS6Sog8"
   },
   "outputs": [
    {
     "ename": "IndexError",
     "evalue": "list assignment index out of range",
     "output_type": "error",
     "traceback": [
      "\u001b[0;31m---------------------------------------------------------------------------\u001b[0m",
      "\u001b[0;31mIndexError\u001b[0m                                Traceback (most recent call last)",
      "\u001b[0;32m/var/folders/3d/rwj1c9sd4bvbgvpt0y8p10ym0000gn/T/ipykernel_27883/3685440254.py\u001b[0m in \u001b[0;36m<module>\u001b[0;34m\u001b[0m\n\u001b[1;32m      2\u001b[0m \u001b[0ma\u001b[0m \u001b[0;34m=\u001b[0m \u001b[0;34m[\u001b[0m\u001b[0;34m]\u001b[0m\u001b[0;34m\u001b[0m\u001b[0;34m\u001b[0m\u001b[0m\n\u001b[1;32m      3\u001b[0m \u001b[0;32mfor\u001b[0m \u001b[0mi\u001b[0m \u001b[0;32min\u001b[0m \u001b[0mrange\u001b[0m\u001b[0;34m(\u001b[0m\u001b[0;36m4\u001b[0m\u001b[0;34m)\u001b[0m\u001b[0;34m:\u001b[0m\u001b[0;34m\u001b[0m\u001b[0;34m\u001b[0m\u001b[0m\n\u001b[0;32m----> 4\u001b[0;31m     \u001b[0ma\u001b[0m\u001b[0;34m[\u001b[0m\u001b[0mi\u001b[0m\u001b[0;34m]\u001b[0m \u001b[0;34m=\u001b[0m \u001b[0mi\u001b[0m \u001b[0;34m*\u001b[0m \u001b[0mi\u001b[0m\u001b[0;34m\u001b[0m\u001b[0;34m\u001b[0m\u001b[0m\n\u001b[0m",
      "\u001b[0;31mIndexError\u001b[0m: list assignment index out of range"
     ]
    }
   ],
   "source": [
    "## Solution\n",
    "a = []\n",
    "for i in range(4):\n",
    "    a[i] = i * i"
   ]
  },
  {
   "cell_type": "markdown",
   "metadata": {},
   "source": [
    "**ANSWER**: the `for loop` will go through each item in range(4), which is 0, 1, 2, 3. Let's say when we go through the first one 0. we have a[0] = 0 * 0. However, `list a` is an empty list with 0 item and 0 length. We are not able to assign any item to any index in list a. The list assignment index would be out of range."
   ]
  },
  {
   "cell_type": "markdown",
   "metadata": {
    "id": "nHv9-h6BSog8"
   },
   "source": [
    "## Problem:\n",
    "\n",
    "How can you fix the above snippet?\n",
    "\n",
    "Hint: You need to use a specific `method` of `list class`. "
   ]
  },
  {
   "cell_type": "code",
   "execution_count": null,
   "metadata": {
    "id": "BYsme2yoSog8"
   },
   "outputs": [],
   "source": [
    "## Solution\n",
    "a = []\n",
    "for i in range(4):\n",
    "    a.append(i * i)\n",
    "a"
   ]
  },
  {
   "cell_type": "markdown",
   "metadata": {
    "id": "Flmqq76hSog9"
   },
   "source": [
    "## Problem:\n",
    "\n",
    "This question will help you practice `count` method of `list` class. `my_list.count(value)` returns number of times `value` appears in `my_list`. Here is an example:\n",
    "> **Example**\n",
    ">>```python\n",
    ">>list_a = [2, 3, 2, 5, 1, 5, 2, 2]\n",
    ">>print(f' 2 appears {list_a.count(2)} times in {list_a}')\n",
    ">>```\n",
    ">\n",
    ">yields\n",
    ">>```python\n",
    ">> 2 appears 4 times in [2, 3, 2, 5, 1, 5, 2, 2]\n",
    ">>```\n",
    ">\n",
    "\n",
    "Use `range()`, `for` loop, and `count()` method to print number of times numbers 1 to 6 appears in `list_a`. Display your answer with `f-string`"
   ]
  },
  {
   "cell_type": "code",
   "execution_count": null,
   "metadata": {
    "id": "3FppNe9_Sog9"
   },
   "outputs": [],
   "source": [
    "## Solution\n",
    "list_a = [2, 3, 2, 5, 1, 5, 2, 2]\n",
    "for i in range(1, 7):\n",
    "    list_a.count(i)\n",
    "    print(f\"{i} appears {list_a.count(i)} times in {list_a}\")"
   ]
  },
  {
   "cell_type": "markdown",
   "metadata": {
    "id": "V1UPGlH1Sog9"
   },
   "source": [
    "## Problem:\n",
    "\n",
    "`split()` method splits a string into a list where each word is a list item. Here is an example:\n",
    "\n",
    "> **Example**\n",
    ">>```python\n",
    ">>test_list = 'this is a test'\n",
    ">>print(test_list.split())\n",
    ">>```\n",
    ">\n",
    ">yields\n",
    ">>```python\n",
    ">>['this', 'is', 'a', 'test']\n",
    ">>```\n",
    "\n",
    "Use `split()` to extract words from the string `string_a = 'I never thought I would like Python this much'`. Call your new list `words`."
   ]
  },
  {
   "cell_type": "code",
   "execution_count": null,
   "metadata": {
    "id": "LzCjKbE4Sog-"
   },
   "outputs": [],
   "source": [
    "## Solution\n",
    "string_a = \"I never thought I would like Python this much\"\n",
    "words = string_a.split()\n",
    "words"
   ]
  },
  {
   "cell_type": "markdown",
   "metadata": {
    "id": "XYwQvsvuSog-"
   },
   "source": [
    "## Problem:\n",
    "\n",
    "Use list comprehension to build a list from the above list `words`. Make sure to exclude words `I` from your new list. Call your new list `updated_words`"
   ]
  },
  {
   "cell_type": "code",
   "execution_count": null,
   "metadata": {
    "id": "sZB_KMgBSog-"
   },
   "outputs": [],
   "source": [
    "## Solution\n",
    "updated_words = [word for word in words if word != \"I\"]\n",
    "print(updated_words)"
   ]
  },
  {
   "cell_type": "markdown",
   "metadata": {
    "id": "GDes8lKrSog-"
   },
   "source": [
    "## Problem:\n",
    "\n",
    "### The `zip()` function\n",
    "\n",
    "In this question, you will practice using `zip()` function.\n",
    "\n",
    "Assume `list_a = [1, 2, 3]` and `list_b = [5, 6, 7]`. You would like to add these two lists **item-wise** and get the resulting list of `list_c = [6, 8, 10]`. If you try\n",
    "\n",
    ">>```python\n",
    ">>list_a = [1, 2, 3]\n",
    ">>list_b = [5, 6, 7]\n",
    ">>list_c = list_a + list_b\n",
    ">>print(list_c)\n",
    ">>```\n",
    ">\n",
    ">you will get\n",
    ">\n",
    ">>```python\n",
    ">>[1, 2, 3, 5, 6, 7]\n",
    ">>```\n",
    ">\n",
    ">Which obviously is the wrong output\n",
    "\n",
    "\n",
    "Here is one valid way of performing this task:\n",
    "\n",
    ">>```python\n",
    ">>list_a = [1, 2, 3]\n",
    ">>list_b = [5, 6, 7]\n",
    ">>list_c = [list_a[i] + list_b[i] for i in range(len(list_a))]  # list comprehension\n",
    ">>\n",
    ">>print(list_c)\n",
    ">>```\n",
    "\n",
    "Here is a better way of performing this task: The `zip()` function is very handy when we need to iterate over multiple lists. It is generally used with a loop and to compare similar indexed elements in each list. We can use any number of lists inside the `zip()` function to iterate over them. Here is the above example using `zip()`:\n",
    "\n",
    ">>```python\n",
    ">>list_a = [1, 2, 3]\n",
    ">>list_b = [5, 6, 7]\n",
    ">>list_c = []\n",
    ">>for (p, q) in zip(list_a, list_b):\n",
    ">>     list_c.append(p + q)\n",
    ">>\n",
    ">>print(list_c)\n",
    ">>```\n",
    ">\n",
    ">even better, with list comprehension:\n",
    ">\n",
    ">>```python\n",
    ">>list_a = [1, 2, 3]\n",
    ">>list_b = [5, 6, 7]\n",
    ">>list_c = [p + q for (p, q) in zip(list_a, list_b)] \n",
    ">>\n",
    ">>print(list_c)\n",
    ">>```\n",
    "\n",
    "Here is another example:\n",
    ">>```python\n",
    ">>brides = ['Jenny', 'Anna', 'Sara']\n",
    ">>grooms = ['Zack', 'Rafael', 'Alex']\n",
    ">>zipped = zip(brides, grooms)\n",
    ">>print(list(zipped))\n",
    ">>```\n",
    ">\n",
    ">yields\n",
    ">>```python\n",
    ">>[('Jenny', 'Zack'), ('Anna', 'Rafael'), ('Sara', 'Alex')]\n",
    ">>```\n",
    ">\n",
    ">as you can see `list(zipped)` is a list of tuples\n",
    "\n",
    "\n",
    "Here is another example\n",
    "\n",
    ">>```python\n",
    ">>brides = ['Jenny', 'Anna', 'Sara']\n",
    ">>grooms = ['Zack', 'Rafael', 'Alex']\n",
    ">>for i, j in zip(brides, grooms):\n",
    ">>     print(f'{i} will marry {j}')  # f-string\n",
    ">>```\n",
    ">\n",
    ">yields\n",
    ">>```python\n",
    ">>Jenny will marry Zack\n",
    ">>Anna will marry Rafael\n",
    ">>Sara will marry Alex\n",
    ">>```\n",
    ">>\n",
    "\n",
    "`financial` worksheet of the excel file `hw2excelfile.xlsx` contains `revenue` and `production cost` of 12 months of a company.\n",
    " - Use `openpyxl` to read `financial` worksheet\n",
    " - Create two lists; one for `revenue` and one for `production_cost`\n",
    " - Create an empty list `profit`\n",
    " - Use `zip()` function to calculate store monthly profit values\n",
    " - `append` monthly profit values to `profit` list\n",
    " - print `profit` list\n"
   ]
  },
  {
   "cell_type": "code",
   "execution_count": 25,
   "metadata": {
    "id": "NaaGRahMSog-"
   },
   "outputs": [
    {
     "name": "stdout",
     "output_type": "stream",
     "text": [
      "Profit:[10816.0, 10440.0, 11162.0, 10043.0, 10221.0, 10468.0, 10574.0, 9782.0, 10283.0, 9905.0, 10329.0, 9909.0]\n"
     ]
    }
   ],
   "source": [
    "## Solution\n",
    "import openpyxl\n",
    "\n",
    "wb = openpyxl.load_workbook(\"hw2excelfile.xlsx\")\n",
    "wb.active\n",
    "sheet = wb[\"financial\"]\n",
    "\n",
    "revenue = []\n",
    "for row in range(2, sheet.max_row + 1):\n",
    "    revenue.append(float(sheet.cell(row=row, column=2).value))\n",
    "# print(f\"Revenue: {revenue}\")\n",
    "\n",
    "production_cost = []\n",
    "for row in range(2, sheet.max_row + 1):\n",
    "    production_cost.append(float(sheet.cell(row=row, column=3).value))\n",
    "# print(f\"production cost: {production_cost}\")\n",
    "\n",
    "profit = []\n",
    "for r, c in zip(revenue, production_cost):\n",
    "    profit.append(r - c)\n",
    "print(f\"Profit:{profit}\")"
   ]
  },
  {
   "cell_type": "markdown",
   "metadata": {},
   "source": [
    "## Problem\n",
    "\n",
    "Create a dictionary `dict_a` with \n",
    "\n",
    "keys: `'first_name'`, `'last_name'`, `'number_courses_completed'` and `'number_of_courses_SP_1_2022'`\n",
    "\n",
    "and corresponding values: `'your own first name'`, `'your own last name'`, `integer number of courses you have completed so far in Carey`, and `integer number of courses you are taking this semester`.\n",
    "\n",
    "print `dict_a` using `f-string`"
   ]
  },
  {
   "cell_type": "code",
   "execution_count": null,
   "metadata": {},
   "outputs": [],
   "source": [
    "## Solution\n",
    "dict_a = {\n",
    "    \"first_name\": \"Xuan\",\n",
    "    \"last_name\": \"Peng\",\n",
    "    \"number_courses_completed\": 13,\n",
    "    \"number_of_courses_SP_1_2022\": 3,\n",
    "}\n",
    "print(f\"{dict_a}\")"
   ]
  },
  {
   "cell_type": "markdown",
   "metadata": {
    "id": "Qi1ClJ3pgVI0",
    "tags": []
   },
   "source": [
    "## Problem \n",
    "Consider this dictionary:\n",
    "\n",
    "`dict_b = {\"student\": \"Barry\",\"age\":23, \"course\": 'Econometrics', \"grade\": \"90\" }`\n",
    "\n",
    " - Create an empty dictionary `dict_c`\n",
    " - **WITHOUT USING DICTIONARY COMPREHENSION** and using `for` and `if` add `key: value` to `dict_c` if key is not equal to `\"age\"`\n",
    " - print `dict_c` using `f-string`. The ideal output of your snippet is:\n",
    " \n",
    "`Dictionary dict_c is {\"student\": \"Barry\",\"course\": 'Econometrics', \"grade\": \"90\" }`\n"
   ]
  },
  {
   "cell_type": "code",
   "execution_count": null,
   "metadata": {},
   "outputs": [],
   "source": [
    "## Solution\n",
    "dict_b = {\"student\": \"Barry\", \"age\": 23, \"course\": \"Econometrics\", \"grade\": \"90\"}\n",
    "dict_c = {}\n",
    "for key, value in dict_b.items():\n",
    "    if key != \"age\":\n",
    "        dict_c[key] = value\n",
    "print(f\"Dictionary dict_c is {dict_c}\")"
   ]
  },
  {
   "cell_type": "markdown",
   "metadata": {
    "id": "Qi1ClJ3pgVI0",
    "tags": []
   },
   "source": [
    "## Problem \n",
    "Consider this dictionary:\n",
    "\n",
    "`dict_b = {\"student\": \"Barry\",\"age\":23, \"course\": 'Econometrics', \"grade\": \"90\" }`\n",
    "\n",
    " - **USING DICTIONARY COMPREHENSION** create a dictionary `dict_c`with `key: value` members where key is not equal to `\"age\"`\n",
    " - print `dict_c` using `f-string`. The ideal output of your snippet is:\n",
    " \n",
    "`Dictionary dict_c is {\"student\": \"Barry\",\"course\": 'Econometrics', \"grade\": \"90\" }`\n"
   ]
  },
  {
   "cell_type": "code",
   "execution_count": 13,
   "metadata": {},
   "outputs": [
    {
     "name": "stdout",
     "output_type": "stream",
     "text": [
      "Dictionary dict_c is {'student': 'Barry', 'course': 'Econometrics', 'grade': '90'}\n"
     ]
    }
   ],
   "source": [
    "## Solution\n",
    "dict_b = {\"student\": \"Barry\", \"age\": 23, \"course\": \"Econometrics\", \"grade\": \"90\"}\n",
    "dict_c = {key: value for key, value in dict_b.items() if key != \"age\"}\n",
    "print(f\"Dictionary dict_c is {dict_c}\")"
   ]
  },
  {
   "cell_type": "markdown",
   "metadata": {
    "id": "Qi1ClJ3pgVI0",
    "tags": []
   },
   "source": [
    "## Problem \n",
    "Consider this dictionary:\n",
    "\n",
    "`dict_b = {\"student\": \"Barry\",\"age\":23, \"course\": 'Econometrics', \"grade\": \"90\" }`\n",
    "\n",
    " - **USING DICTIONARY COMPREHENSION** create a dictionary `dict_d`with `key: value` members where key is not an item in  `[\"student\", \"course\"]`\n",
    " - print `dict_d` using `f-string`. The ideal output of your snippet is:\n",
    " \n",
    "`Dictionary dict_d = {\"age\":23, \"grade\": \"90\" }`\n"
   ]
  },
  {
   "cell_type": "code",
   "execution_count": 14,
   "metadata": {
    "id": "hSuz4IGvjFiF"
   },
   "outputs": [
    {
     "name": "stdout",
     "output_type": "stream",
     "text": [
      "Dictionary dict_d = {'age': 23, 'grade': '90'}\n"
     ]
    }
   ],
   "source": [
    "## Solution\n",
    "dict_b = {\"student\": \"Barry\", \"age\": 23, \"course\": \"Econometrics\", \"grade\": \"90\"}\n",
    "dict_d = {\n",
    "    key: value for key, value in dict_b.items() if key not in (\"student\", \"course\")\n",
    "}\n",
    "print(f\"Dictionary dict_d = {dict_d}\")"
   ]
  },
  {
   "cell_type": "markdown",
   "metadata": {},
   "source": [
    "## Question\n",
    "\n",
    "- Using `list` function, create a list called `list_a` from `range(1,10,2)` object. \n",
    "\n",
    "- Create an empty dictionary called `dict_numbers`.\n",
    "\n",
    "- **WITHOUT using dictionary comprehension** add `item: item ** 2` pairs to `dict_numbers` where keys are members of `list_a`. You must use a `for loop`.\n",
    "\n",
    "- print your dictionary using `f-string`. The idea output is `dict_numbers is {1: 1, 3: 9, 5: 25, 7: 49, 9: 81}`  "
   ]
  },
  {
   "cell_type": "code",
   "execution_count": 15,
   "metadata": {},
   "outputs": [
    {
     "name": "stdout",
     "output_type": "stream",
     "text": [
      "dict_number is {1: 1, 3: 9, 5: 25, 7: 49, 9: 81}\n"
     ]
    }
   ],
   "source": [
    "## Solution\n",
    "list_a = list(range(1, 10, 2))\n",
    "dict_numbers = {}\n",
    "for item in list_a:\n",
    "    dict_numbers[item] = item ** 2\n",
    "print(f\"dict_number is {dict_numbers}\")"
   ]
  },
  {
   "cell_type": "markdown",
   "metadata": {},
   "source": [
    "## Question\n",
    "\n",
    "- Using `list` function, create a list called `list_a` from `range(1,10,2)` object. \n",
    "\n",
    "- **Using dictionary comprehension** create a dictionary `dict_numbers` with `item: item ** 2` pairs where keys are members of `list_a`.\n",
    "\n",
    "- print your dictionary using `f-string`. The idea output is `dict_numbers is {1: 1, 3: 9, 5: 25, 7: 49, 9: 81}`  "
   ]
  },
  {
   "cell_type": "code",
   "execution_count": 16,
   "metadata": {},
   "outputs": [
    {
     "name": "stdout",
     "output_type": "stream",
     "text": [
      "dict_number is {1: 1, 3: 9, 5: 25, 7: 49, 9: 81}\n"
     ]
    }
   ],
   "source": [
    "## Solution\n",
    "list_a = list(range(1, 10, 2))\n",
    "dict_numbers = {item: item ** 2 for item in list_a}\n",
    "print(f\"dict_number is {dict_numbers}\")"
   ]
  },
  {
   "cell_type": "markdown",
   "metadata": {
    "tags": []
   },
   "source": [
    "## Question\n",
    "\n",
    "- Using `list` function, create a list called `list_a` from `range(1,10,2)` object. \n",
    "\n",
    "- **Using dictionary comprehension** create a dictionary `dict_numbers_2` with `item: item ** 2` pairs where keys are those members of `list_a` that are less than 6.\n",
    "\n",
    "- print your dictionary using `f-string`. The idea output is `dict_numbers_2 is {1: 1, 3: 9, 5: 25}`  "
   ]
  },
  {
   "cell_type": "code",
   "execution_count": 17,
   "metadata": {},
   "outputs": [
    {
     "name": "stdout",
     "output_type": "stream",
     "text": [
      "dict_numbers_2 is {1: 1, 3: 9, 5: 25}\n"
     ]
    }
   ],
   "source": [
    "## Solution\n",
    "list_a = list(range(1, 10, 2))\n",
    "dict_numbers_2 = {item: item ** 2 for item in list_a if item < 6}\n",
    "print(f\"dict_numbers_2 is {dict_numbers_2}\")"
   ]
  },
  {
   "cell_type": "markdown",
   "metadata": {
    "tags": []
   },
   "source": [
    "## Question\n",
    "\n",
    "- Using `list` function, create a list called `list_a` from `range(1,10,2)` object. \n",
    "\n",
    "- **Using dictionary comprehension** create a dictionary with `item: item ** 2` pairs where keys are **even** members of `list_a`.\n",
    "\n",
    "- print your dictionary using `f-string`. The idea output is `dict_even_numbers is {}`  "
   ]
  },
  {
   "cell_type": "code",
   "execution_count": 18,
   "metadata": {},
   "outputs": [
    {
     "name": "stdout",
     "output_type": "stream",
     "text": [
      "dict_even_numbers is {}\n"
     ]
    }
   ],
   "source": [
    "## Solution\n",
    "list_a = list(range(1, 10, 2))\n",
    "dict_even_numbers = {item: item ** 2 for item in list_a if item % 2 == 0}\n",
    "print(f\"dict_even_numbers is {dict_even_numbers}\")"
   ]
  },
  {
   "cell_type": "markdown",
   "metadata": {},
   "source": [
    "## Question\n",
    "\n",
    " - Create a list `list_a` from characters of `str_a = 'I STUDY AT CAREY BUSINESS SCHOOL'`. This is going to be a rather long list.\n",
    " - How many items are in `list_a`? print it using `f-string`.\n",
    " - Using `set` function create a set `set_a` that contains unique characters of `list_a`.\n",
    " - How many members are in `set_a`. Print it using `f-string`."
   ]
  },
  {
   "cell_type": "code",
   "execution_count": 19,
   "metadata": {},
   "outputs": [
    {
     "name": "stdout",
     "output_type": "stream",
     "text": [
      "Number of items in list_a is 32\n",
      "Number of members in set_a is 16\n"
     ]
    }
   ],
   "source": [
    "## Solution\n",
    "str_a = \"I STUDY AT CAREY BUSINESS SCHOOL\"\n",
    "list_a = list(str_a)\n",
    "print(f\"Number of items in list_a is {len(list_a)}\")\n",
    "set_a = set(list_a)\n",
    "print(f\"Number of members in set_a is {len(set_a)}\")"
   ]
  },
  {
   "cell_type": "markdown",
   "metadata": {},
   "source": [
    "## Question\n",
    "\n",
    "Reminder: `str_a.count(character)` counts number of times that a character appears in string `str_a`.\n",
    "\n",
    "- Create a string `str_a = 'I STUDY AT CAREY BUSINESS SCHOOL'`.\n",
    "- Create an empty dictionary `dict_char_count`.\n",
    "- **WITHOUT USING DICTIONARY COMPREHENSION** inside a `for loop` add `char: chart_count` members to `dict_char_count` where `char` is a character in `str_a`.\n",
    "- Use `f-string` to print this dictionary\n",
    "\n",
    "The ideal output of this question is:\n",
    "\n",
    "`dict_char_count is {'I': 2, ' ': 5, 'S': 5, 'T': 2, 'U': 2, 'D': 1, 'Y': 2, 'A': 2, 'C': 2, 'R': 1, 'E': 2, 'B': 1, 'N': 1, 'H': 1, 'O': 2, 'L': 1}`"
   ]
  },
  {
   "cell_type": "code",
   "execution_count": 20,
   "metadata": {},
   "outputs": [
    {
     "name": "stdout",
     "output_type": "stream",
     "text": [
      "dict_char_count is {'I': 2, ' ': 5, 'S': 5, 'T': 2, 'U': 2, 'D': 1, 'Y': 2, 'A': 2, 'C': 2, 'R': 1, 'E': 2, 'B': 1, 'N': 1, 'H': 1, 'O': 2, 'L': 1}\n"
     ]
    }
   ],
   "source": [
    "## Solution\n",
    "str_a = \"I STUDY AT CAREY BUSINESS SCHOOL\"\n",
    "dict_char_count = {}\n",
    "for char in str_a:\n",
    "    dict_char_count[char] = str_a.count(char)\n",
    "print(f\"dict_char_count is {dict_char_count}\")"
   ]
  },
  {
   "cell_type": "markdown",
   "metadata": {},
   "source": [
    "## Question\n",
    "\n",
    "Reminder: `str_a.count(character)` counts number of times that `character` appears in string `str_a`. Knowing this:\n",
    "\n",
    "- Create a string `str_a = 'I STUDY AT CAREY BUSINESS SCHOOL'`.\n",
    "- **USING DICTIONARY COMPREHENSION** create a dictionary `dict_char_count` with `char: chart_count` members where `char` is a character in `str_a`.\n",
    "- Use `f-string` to print this dictionary\n",
    "\n",
    "The ideal output of this question is:\n",
    "\n",
    "`dict_char_count is {'I': 2, ' ': 5, 'S': 5, 'T': 2, 'U': 2, 'D': 1, 'Y': 2, 'A': 2, 'C': 2, 'R': 1, 'E': 2, 'B': 1, 'N': 1, 'H': 1, 'O': 2, 'L': 1}`"
   ]
  },
  {
   "cell_type": "code",
   "execution_count": 21,
   "metadata": {},
   "outputs": [
    {
     "name": "stdout",
     "output_type": "stream",
     "text": [
      "dict_char_count is {'I': 2, ' ': 5, 'S': 5, 'T': 2, 'U': 2, 'D': 1, 'Y': 2, 'A': 2, 'C': 2, 'R': 1, 'E': 2, 'B': 1, 'N': 1, 'H': 1, 'O': 2, 'L': 1}\n"
     ]
    }
   ],
   "source": [
    "## Solution\n",
    "str_a = \"I STUDY AT CAREY BUSINESS SCHOOL\"\n",
    "dict_char_count = {char: str_a.count(char) for char in str_a}\n",
    "print(f\"dict_char_count is {dict_char_count}\")"
   ]
  },
  {
   "cell_type": "markdown",
   "metadata": {},
   "source": [
    "## Question \n",
    "\n",
    "Consider the following two dictionaries:\n",
    "\n",
    "`dict_a = {'Yifan': 96, 'Lilli': 97}`\n",
    "\n",
    "`dict_b = {'Bowen': 98 , 'Dhruv': 99}`\n",
    "\n",
    "- merge these two dictionaries using `update` method.\n",
    "- print the resulting dictionary using `f-string`. The ideal output of your snippet is:\n",
    "\n",
    "`merge of {'Yifan': 96, 'Lilli': 97} and {'Bowen': 98, 'Dhruv': 99} is {'Yifan': 96, 'Lilli': 97, 'Bowen': 98, 'Dhruv': 99}`\n",
    "\n",
    "\n",
    "**HINT: Check your output carefully!**"
   ]
  },
  {
   "cell_type": "code",
   "execution_count": 22,
   "metadata": {},
   "outputs": [
    {
     "name": "stdout",
     "output_type": "stream",
     "text": [
      "merge of {'Yifan': 96, 'Lilli': 97} and {'Bowen': 98, 'Dhruv': 99} is {'Yifan': 96, 'Lilli': 97, 'Bowen': 98, 'Dhruv': 99}\n"
     ]
    }
   ],
   "source": [
    "## Solution\n",
    "dict_a = {\"Yifan\": 96, \"Lilli\": 97}\n",
    "dict_b = {\"Bowen\": 98, \"Dhruv\": 99}\n",
    "dict_a_copy = dict_a.copy()\n",
    "dict_a.update(dict_b)\n",
    "print(f\"merge of {dict_a_copy} and {dict_b} is {dict_a}\")"
   ]
  },
  {
   "cell_type": "markdown",
   "metadata": {},
   "source": [
    "## Question \n",
    "\n",
    "Consider the following two dictionaries:\n",
    "\n",
    "`dict_a = {'Yifan': 96, 'Lilli': 97}`\n",
    "\n",
    "`dict_b = {'Bowen': 98 , 'Dhruv': 99}`\n",
    "\n",
    "- merge these two dictionaries using `**` operator.\n",
    "- print the resulting dictionary using `f-string`. The ideal output of your snippet is:\n",
    "\n",
    "merge of {'Yifan': 96, 'Lilli': 97} and {'Bowen': 98, 'Dhruv': 99} is {'Yifan': 96, 'Lilli': 97, 'Bowen': 98, 'Dhruv': 99}\n",
    "\n",
    "\n",
    "**HINT: Check your output carefully!**"
   ]
  },
  {
   "cell_type": "code",
   "execution_count": 23,
   "metadata": {},
   "outputs": [
    {
     "name": "stdout",
     "output_type": "stream",
     "text": [
      "merge of {'Yifan': 96, 'Lilli': 97} and {'Bowen': 98, 'Dhruv': 99} is {'Yifan': 96, 'Lilli': 97, 'Bowen': 98, 'Dhruv': 99}\n"
     ]
    }
   ],
   "source": [
    "## Solution\n",
    "dict_a = {\"Yifan\": 96, \"Lilli\": 97}\n",
    "dict_b = {\"Bowen\": 98, \"Dhruv\": 99}\n",
    "dict_c = {**dict_a, **dict_b}\n",
    "print(f\"merge of {dict_a} and {dict_b} is {dict_c}\")"
   ]
  },
  {
   "cell_type": "markdown",
   "metadata": {},
   "source": [
    "## Question \n",
    "\n",
    "Consider the following two dictionaries:\n",
    "\n",
    "`dict_a = {'Yifan': 98, 'Lilli': 99, 'Bowen': 100, 'Naser': 20}`\n",
    "\n",
    "`dict_b = {'Milo': 100, 'Fluffy': 90, 'Naser': 0}`\n",
    "\n",
    "- print result of `dict_a.update(dict_b)`\n",
    "- print result of `dict_b.update(dict_a)`\n",
    "\n",
    "- is `dict_a.update(dict_b)` the same as `dict_b.update(dict_a)`? Why? Explain your answer\n"
   ]
  },
  {
   "cell_type": "code",
   "execution_count": 24,
   "metadata": {},
   "outputs": [
    {
     "name": "stdout",
     "output_type": "stream",
     "text": [
      "None\n",
      "None\n"
     ]
    }
   ],
   "source": [
    "## Solution\n",
    "dict_a = {\"Yifan\": 98, \"Lilli\": 99, \"Bowen\": 100, \"Naser\": 20}\n",
    "dict_b = {\"Milo\": 100, \"Fluffy\": 90, \"Naser\": 0}\n",
    "print(dict_a.update(dict_b))\n",
    "print(dict_b.update(dict_a))"
   ]
  },
  {
   "cell_type": "markdown",
   "metadata": {},
   "source": [
    "**ANSWER**: Yes, they are same to each other. Because the `update` function will update the dictionary by adding elements from the other dictionary and doesn't return anything, hence, we will see `None` at the end."
   ]
  },
  {
   "cell_type": "markdown",
   "metadata": {
    "id": "HhKXsfUomQPH"
   },
   "source": [
    "## Reminder about Submission guidelines:\n",
    "**Once you are done, remove all the output (Right click on screen --> Clear All Outputs), save your file as: `YourFirstName_YourLastName_Week_2_SectionNumber.ipynb`.**\n",
    "\n",
    "**Wednesday morning: section_51 & Wednesday afternoon: section 52.**\n",
    "\n",
    "**If you submit under any other name/format, your submission will not be graded!**\n",
    "\n",
    "**Due at 11:59 pm on Tuesday Feb 8, 2022**\n",
    "\n",
    "**We have on-line office hours on Monday night over zoom; please feel free to join and ask your questions. You are better off trying all the questions before the office hours**"
   ]
  },
  {
   "cell_type": "code",
   "execution_count": null,
   "metadata": {},
   "outputs": [],
   "source": []
  },
  {
   "cell_type": "code",
   "execution_count": null,
   "metadata": {},
   "outputs": [],
   "source": []
  }
 ],
 "metadata": {
  "colab": {
   "collapsed_sections": [],
   "name": "week2_homework_Feb3.ipynb",
   "provenance": []
  },
  "kernelspec": {
   "display_name": "Python 3 (ipykernel)",
   "language": "python",
   "name": "python3"
  },
  "language_info": {
   "codemirror_mode": {
    "name": "ipython",
    "version": 3
   },
   "file_extension": ".py",
   "mimetype": "text/x-python",
   "name": "python",
   "nbconvert_exporter": "python",
   "pygments_lexer": "ipython3",
   "version": "3.9.7"
  }
 },
 "nbformat": 4,
 "nbformat_minor": 4
}
